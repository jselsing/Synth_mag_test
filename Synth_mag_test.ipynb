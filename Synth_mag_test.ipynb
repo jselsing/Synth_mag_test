{
 "cells": [
  {
   "cell_type": "code",
   "execution_count": 1,
   "metadata": {
    "collapsed": true
   },
   "outputs": [],
   "source": [
    "%matplotlib inline\n",
    "# # # use seaborn for nice default plot settings\n",
    "import seaborn; seaborn.set_style('ticks')"
   ]
  },
  {
   "cell_type": "code",
   "execution_count": 3,
   "metadata": {
    "collapsed": false
   },
   "outputs": [],
   "source": [
    "from astropy.io import fits\n",
    "import numpy as np"
   ]
  },
  {
   "cell_type": "code",
   "execution_count": 36,
   "metadata": {
    "collapsed": false
   },
   "outputs": [],
   "source": [
    "sdssspec = fits.open('spec-1828-53504-0300.fits')\n",
    "flux = sdssspec[1].data.field('flux')*1e-17\n",
    "wave = 10**sdssspec[1].data.field('loglam')\n",
    "\n",
    "u_band = np.genfromtxt('data/u.dat')\n",
    "g_band = np.genfromtxt('data/g.dat')\n",
    "r_band = np.genfromtxt('data/r.dat')\n",
    "i_band = np.genfromtxt('data/i.dat')\n",
    "z_band = np.genfromtxt('data/z.dat')\n",
    "\n"
   ]
  },
  {
   "cell_type": "code",
   "execution_count": 37,
   "metadata": {
    "collapsed": true
   },
   "outputs": [],
   "source": [
    "\n",
    "def common_wavelength(wlarr_old, fluxarr_old, wlarr_new, fill_value = 0.):\n",
    "    \"\"\"\n",
    "    Function to interpolate flux arrays onto new grid.\n",
    "\n",
    "\n",
    "    Args:\n",
    "        wlarr_old (np.array): Input wavelength array to be interpolated.\n",
    "        wlarr_new (np.array): Target grid\n",
    "        fluxarr_old (np.array): Flux to be interpolated into target grid\n",
    "        fill_value (float) = Fill value for values outside interpolation range\n",
    "\n",
    "    Returns:\n",
    "        np.array: Resampled flux array\n",
    "\n",
    "    \"\"\"\n",
    "    from scipy import interpolate\n",
    "    f = interpolate.interp1d(wlarr_old, fluxarr_old, kind='linear', bounds_error = False, fill_value=fill_value)\n",
    "    fluxarr_new = f(wlarr_new)\n",
    "    return fluxarr_new\n",
    "\n",
    "def synth_mag(band=None, wave=None, flux=None):\n",
    "    \"\"\"\n",
    "    Function to calculate synthetic AB magnitudes. Following Bessell & Murphy (2012) and Casagrande & VandenBerg (2014). \n",
    "\n",
    "\n",
    "    Args:\n",
    "        band (np.array): 2D-array containing transmission curve. zero'th column is wavelength in Angstrom and first column is throughput\n",
    "        wave (np.array): Input wavelength array\n",
    "        flux (np.array) = Input flux array\n",
    "\n",
    "    Returns:\n",
    "        float: Calculated apparent magnitude\n",
    "\n",
    "    \"\"\"\n",
    "\n",
    "    import glob\n",
    "    import numpy as np\n",
    "    from astropy.cosmology import Planck13 as cosmo\n",
    "    from gen_methods import medfilt\n",
    "\n",
    "\n",
    "    #Read file\n",
    "    filter_wave = np.array(band[:,0])\n",
    "    filter_throughput = np.array(band[:,1])\n",
    "\n",
    "\n",
    "    #Interpolate filter to same sampling as target spectrum\n",
    "    filt_new =  common_wavelength(filter_wave, filter_throughput, wave, fill_value=0.0)\n",
    "\n",
    "    #Smooth flux to reject noisy pixels:\n",
    "    sflux = medfilt(flux, 25)\n",
    "\n",
    "    #Calculate AB magnitude\n",
    "    f_nu = (np.sum(filt_new * sflux * wave)) / (3e18 * np.sum(filt_new/wave))\n",
    "    band_mag = -2.5 * np.log10((f_nu)) - 48.6\n",
    "    return band_mag\n"
   ]
  },
  {
   "cell_type": "code",
   "execution_count": 38,
   "metadata": {
    "collapsed": false
   },
   "outputs": [
    {
     "name": "stdout",
     "output_type": "stream",
     "text": [
      "16.4534046051\n",
      "16.982101569\n",
      "16.8423883441\n",
      "16.6298281707\n",
      "16.3265353499\n"
     ]
    }
   ],
   "source": [
    "print(synth_mag(u_band, wave, flux))\n",
    "print(synth_mag(g_band, wave, flux))\n",
    "print(synth_mag(r_band, wave, flux))\n",
    "print(synth_mag(i_band, wave, flux))\n",
    "print(synth_mag(z_band, wave, flux))"
   ]
  },
  {
   "cell_type": "code",
   "execution_count": null,
   "metadata": {
    "collapsed": true
   },
   "outputs": [],
   "source": []
  }
 ],
 "metadata": {
  "kernelspec": {
   "display_name": "Python 2",
   "language": "python",
   "name": "python2"
  },
  "language_info": {
   "codemirror_mode": {
    "name": "ipython",
    "version": 2
   },
   "file_extension": ".py",
   "mimetype": "text/x-python",
   "name": "python",
   "nbconvert_exporter": "python",
   "pygments_lexer": "ipython2",
   "version": "2.7.10"
  }
 },
 "nbformat": 4,
 "nbformat_minor": 0
}
